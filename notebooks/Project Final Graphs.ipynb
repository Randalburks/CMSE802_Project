{
 "cells": [
  {
   "cell_type": "markdown",
   "id": "eb1fc87b-b4b3-4378-8e00-4c2430aa71ff",
   "metadata": {},
   "source": [
    "# Customer Segmentation and Sentiment Analysis\n",
    "This notebook loads the dataset, cleans review text, performs sentiment analysis, and runs K-means clustering to identify customer segments.\n"
   ]
  },
  {
   "cell_type": "code",
   "execution_count": 2,
   "id": "40f0bbe1-ed0f-4758-8498-a3619e4b8c89",
   "metadata": {},
   "outputs": [
    {
     "name": "stderr",
     "output_type": "stream",
     "text": [
      "[nltk_data] Downloading package vader_lexicon to\n",
      "[nltk_data]     /Users/randalburks/nltk_data...\n",
      "[nltk_data]   Package vader_lexicon is already up-to-date!\n"
     ]
    }
   ],
   "source": [
    "import pandas as pd\n",
    "import matplotlib.pyplot as plt\n",
    "import seaborn as sns\n",
    "import nltk\n",
    "nltk.download(\"vader_lexicon\")\n",
    "from sklearn.cluster import KMeans\n",
    "from sklearn.preprocessing import StandardScaler\n",
    "import re\n"
   ]
  },
  {
   "cell_type": "code",
   "execution_count": null,
   "id": "a25812f4-2359-4e36-afc5-835f160d3b31",
   "metadata": {},
   "outputs": [],
   "source": [
    "df = pd.read_csv(\"Womens Clothing E-Commerce Reviews.csv\")\n",
    "df.head()\n"
   ]
  },
  {
   "cell_type": "code",
   "execution_count": null,
   "id": "7477b134-97b3-4c8d-a6eb-c4782d9ce5f8",
   "metadata": {},
   "outputs": [],
   "source": [
    "def clean_text(text):\n",
    "    if isinstance(text, str):\n",
    "        text = text.lower()\n",
    "        text = re.sub(r\"[^a-z\\s]\", \"\", text)\n",
    "        text = re.sub(r\"\\s+\", \" \", text).strip()\n",
    "        return text\n",
    "    return \"\"\n"
   ]
  },
  {
   "cell_type": "code",
   "execution_count": null,
   "id": "512e7fa9-cf60-4518-aa1e-8c37ff697fbd",
   "metadata": {},
   "outputs": [],
   "source": [
    "df[\"Cleaned_Review\"] = df[\"Review Text\"].apply(clean_text)\n",
    "df[[\"Review Text\", \"Cleaned_Review\"]].head()\n"
   ]
  },
  {
   "cell_type": "code",
   "execution_count": null,
   "id": "a45462e9-a769-4bfb-b372-7c1eb8a4a01f",
   "metadata": {},
   "outputs": [],
   "source": [
    "from nltk.sentiment import SentimentIntensityAnalyzer\n",
    "\n",
    "sia = SentimentIntensityAnalyzer()\n",
    "\n",
    "def get_vader_sentiment(text):\n",
    "    if text:\n",
    "        score = sia.polarity_scores(text)\n",
    "        return score[\"compound\"]\n",
    "    return 0.0\n",
    "\n",
    "df[\"Sentiment\"] = df[\"Cleaned_Review\"].apply(get_vader_sentiment)\n",
    "df[[\"Cleaned_Review\", \"Sentiment\"]].head()\n",
    "\n",
    "\n"
   ]
  },
  {
   "cell_type": "code",
   "execution_count": null,
   "id": "bc3b081c-204b-43c8-bf2a-6c8e677ef8a7",
   "metadata": {},
   "outputs": [],
   "source": [
    "features = df[[\"Age\", \"Rating\", \"Positive Feedback Count\"]].dropna()\n",
    "scaler = StandardScaler()\n",
    "X_scaled = scaler.fit_transform(features)\n",
    "\n",
    "kmeans = KMeans(n_clusters=3, random_state=42)\n",
    "labels = kmeans.fit_predict(X_scaled)\n",
    "features[\"Cluster\"] = labels\n",
    "features.head()\n"
   ]
  },
  {
   "cell_type": "code",
   "execution_count": null,
   "id": "63b45933-8d65-45e4-a066-09522c83321c",
   "metadata": {},
   "outputs": [],
   "source": [
    "sns.scatterplot(data=features, x=\"Age\", y=\"Positive Feedback Count\", hue=\"Cluster\", palette=\"tab10\")\n",
    "plt.title(\"Customer Clusters\")\n",
    "plt.show()\n"
   ]
  },
  {
   "cell_type": "code",
   "execution_count": null,
   "id": "9c10fc80-38f5-4d9d-a444-bf75a70448a8",
   "metadata": {},
   "outputs": [],
   "source": [
    "sns.histplot(df[\"Sentiment\"], kde=True)\n",
    "plt.title(\"Sentiment Score Distribution\")\n",
    "plt.show()\n"
   ]
  },
  {
   "cell_type": "markdown",
   "id": "edf6a3c7-4e08-4eab-ae8a-f60a8d28bb37",
   "metadata": {},
   "source": [
    "## Sentiment by Cluster"
   ]
  },
  {
   "cell_type": "code",
   "execution_count": null,
   "id": "6a97cb1e-70b5-4d3a-8dab-1eecabd3556b",
   "metadata": {},
   "outputs": [],
   "source": [
    "merged_df = df[[\"Cleaned_Review\", \"Sentiment\"]].join(features[\"Cluster\"])\n",
    "sns.boxplot(data=merged_df, x=\"Cluster\", y=\"Sentiment\")\n",
    "plt.title(\"Sentiment by Customer Cluster\")\n",
    "plt.show()\n"
   ]
  },
  {
   "cell_type": "markdown",
   "id": "61cc7b0e-b051-4cf3-adfe-9162dac651f2",
   "metadata": {},
   "source": [
    "## Average Rating by Cluster"
   ]
  },
  {
   "cell_type": "code",
   "execution_count": null,
   "id": "f30a6c8f-0539-467d-8596-8450ce31f657",
   "metadata": {},
   "outputs": [],
   "source": [
    "cluster_ratings = df[[\"Rating\"]].join(features[\"Cluster\"])\n",
    "sns.barplot(data=cluster_ratings, x=\"Cluster\", y=\"Rating\", ci=None)\n",
    "plt.title(\"Average Rating per Cluster\")\n",
    "plt.ylim(0, 5)\n",
    "plt.show()\n"
   ]
  },
  {
   "cell_type": "code",
   "execution_count": null,
   "id": "c4fdae92-0f4f-434f-a5d3-fe76ac5b1f60",
   "metadata": {},
   "outputs": [],
   "source": [
    "from wordcloud import WordCloud\n",
    "import matplotlib.pyplot as plt\n",
    "\n",
    "\n",
    "for c in sorted(features[\"Cluster\"].unique()):\n",
    "    cluster_reviews = df.loc[features[\"Cluster\"] == c, \"Cleaned_Review\"]\n",
    "    text = \" \".join(cluster_reviews.dropna())\n",
    "\n",
    "    wordcloud = WordCloud(width=800, height=400, background_color=\"white\").generate(text)\n",
    "\n",
    "    plt.figure(figsize=(10, 5))\n",
    "    plt.imshow(wordcloud, interpolation=\"bilinear\")\n",
    "    plt.axis(\"off\")\n",
    "    plt.title(f\"Word Cloud for Cluster {c}\")\n",
    "    plt.show()\n"
   ]
  }
 ],
 "metadata": {
  "kernelspec": {
   "display_name": "Python 3 (ipykernel)",
   "language": "python",
   "name": "python3"
  },
  "language_info": {
   "codemirror_mode": {
    "name": "ipython",
    "version": 3
   },
   "file_extension": ".py",
   "mimetype": "text/x-python",
   "name": "python",
   "nbconvert_exporter": "python",
   "pygments_lexer": "ipython3",
   "version": "3.12.4"
  }
 },
 "nbformat": 4,
 "nbformat_minor": 5
}
