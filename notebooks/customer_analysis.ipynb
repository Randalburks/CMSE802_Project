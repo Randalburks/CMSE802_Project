# 1. Import libraries
import pandas as pd
import matplotlib.pyplot as plt
import seaborn as sns

from src.preprocessing import clean_text
from src.clustering import run_kmeans
from src.sentiment import get_sentiment

# 2. Load dataset
df = pd.read_csv("data/Womens Clothing E-Commerce Reviews.csv")

# 3. Clean review text
df["Cleaned_Review"] = df["Review Text"].apply(clean_text)

# 4. Add sentiment score
df["Sentiment"] = df["Cleaned_Review"].apply(get_sentiment)

# 5. Clustering on structured features
features = df[["Age", "Rating", "Positive Feedback Count"]].dropna()
labels, model = run_kmeans(features, n_clusters=3)
features["Cluster"] = labels

# 6. Plot cluster results
sns.scatterplot(data=features, x="Age", y="Positive Feedback Count", hue="Cluster", palette="tab10")
plt.title("Customer Clusters based on Age and Feedback")
plt.show()

# 7. Show sentiment distribution
sns.histplot(df["Sentiment"], kde=True)
plt.title("Sentiment Score Distribution")
plt.show()

