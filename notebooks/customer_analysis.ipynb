{
 "cells": [
  {
   "cell_type": "markdown",
   "id": "2a275af3",
   "metadata": {},
   "source": [
    "# Customer Segmentation and Sentiment Analysis"
   ]
  },
  {
   "cell_type": "code",
   "execution_count": null,
   "id": "da260422",
   "metadata": {},
   "outputs": [],
   "source": [
    "import pandas as pd\n",
    "import matplotlib.pyplot as plt\n",
    "import seaborn as sns\n",
    "from textblob import TextBlob\n",
    "from sklearn.cluster import KMeans\n",
    "from sklearn.preprocessing import StandardScaler\n",
    "import re\n"
   ]
  },
  {
   "cell_type": "code",
   "execution_count": null,
   "id": "c8a857dc",
   "metadata": {},
   "outputs": [],
   "source": [
    "# Load the dataset\n",
    "df = pd.read_csv(\"../data/Womens Clothing E-Commerce Reviews.csv\")\n",
    "df.head()\n"
   ]
  },
  {
   "cell_type": "code",
   "execution_count": null,
   "id": "94b898ca",
   "metadata": {},
   "outputs": [],
   "source": [
    "def clean_text(text):\n",
    "    if isinstance(text, str):\n",
    "        text = text.lower()\n",
    "        text = re.sub(r\"[^a-z\\s]\", \"\", text)\n",
    "        text = re.sub(r\"\\s+\", \" \", text).strip()\n",
    "        return text\n",
    "    return \"\"\n"
   ]
  },
  {
   "cell_type": "code",
   "execution_count": null,
   "id": "3e6c533f",
   "metadata": {},
   "outputs": [],
   "source": [
    "df[\"Cleaned_Review\"] = df[\"Review Text\"].apply(clean_text)\n",
    "df[\"Cleaned_Review\"].head()\n"
   ]
  },
  {
   "cell_type": "code",
   "execution_count": null,
   "id": "5d69676b",
   "metadata": {},
   "outputs": [],
   "source": [
    "def get_sentiment(text):\n",
    "    if text:\n",
    "        return TextBlob(text).sentiment.polarity\n",
    "    return 0.0\n",
    "\n",
    "df[\"Sentiment\"] = df[\"Cleaned_Review\"].apply(get_sentiment)\n",
    "df[\"Sentiment\"].describe()\n"
   ]
  },
  {
   "cell_type": "code",
   "execution_count": null,
   "id": "c2b5fb7f",
   "metadata": {},
   "outputs": [],
   "source": [
    "features = df[[\"Age\", \"Rating\", \"Positive Feedback Count\"]].dropna()\n",
    "scaler = StandardScaler()\n",
    "X_scaled = scaler.fit_transform(features)\n",
    "\n",
    "kmeans = KMeans(n_clusters=3, random_state=42)\n",
    "labels = kmeans.fit_predict(X_scaled)\n",
    "features[\"Cluster\"] = labels\n",
    "features.head()\n"
   ]
  },
  {
   "cell_type": "code",
   "execution_count": null,
   "id": "637312c2",
   "metadata": {},
   "outputs": [],
   "source": [
    "sns.scatterplot(data=features, x=\"Age\", y=\"Positive Feedback Count\", hue=\"Cluster\", palette=\"tab10\")\n",
    "plt.title(\"Customer Clusters\")\n",
    "plt.show()\n"
   ]
  },
  {
   "cell_type": "code",
   "execution_count": null,
   "id": "2b8044eb",
   "metadata": {},
   "outputs": [],
   "source": [
    "sns.histplot(df[\"Sentiment\"], kde=True)\n",
    "plt.title(\"Sentiment Score Distribution\")\n",
    "plt.show()\n"
   ]
  }
 ],
 "metadata": {},
 "nbformat": 4,
 "nbformat_minor": 5
}
